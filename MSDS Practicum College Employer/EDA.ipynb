{
 "cells": [
  {
   "cell_type": "code",
   "execution_count": 3,
   "metadata": {},
   "outputs": [],
   "source": [
    "import pandas as pd\n",
    "import os\n",
    "import numpy as np\n",
    "import matplotlib.pyplot as plt\n",
    "import seaborn as sns\n",
    "import random\n",
    "from sklearn.preprocessing import Normalizer\n",
    "from sklearn.ensemble import RandomForestClassifier\n",
    "from sklearn.feature_selection import SelectFromModel\n",
    "from sklearn.cluster import KMeans\n",
    "from sklearn.model_selection import train_test_split"
   ]
  },
  {
   "cell_type": "code",
   "execution_count": 14,
   "metadata": {},
   "outputs": [],
   "source": [
    "admissions = pd.read_csv('Datasets/Admissions_and_Completions.csv')\n",
    "awards = pd.read_csv('Datasets/Awards.csv')\n",
    "schools = pd.read_csv('Datasets/Schools.csv')\n",
    "\n",
    "admissions.name = \"admissions\"\n",
    "awards.name = \"awards\"\n",
    "schools.name=\"schools\""
   ]
  },
  {
   "cell_type": "code",
   "execution_count": 15,
   "metadata": {},
   "outputs": [
    {
     "name": "stdout",
     "output_type": "stream",
     "text": [
      "admissions (6440, 195)\n",
      "awards (6440, 17)\n",
      "schools (6440, 46)\n"
     ]
    }
   ],
   "source": [
    "dataframes = [admissions,awards,schools]\n",
    "\n",
    "for df in dataframes:\n",
    "    print(df.name,df.shape)"
   ]
  },
  {
   "cell_type": "code",
   "execution_count": 17,
   "metadata": {},
   "outputs": [
    {
     "data": {
      "text/plain": [
       "Index(['instnm', 'Institution (entity) name (HD2020)',\n",
       "       'Grand total (C2020_A  Associate's degree  First major  Grand total)',\n",
       "       'Grand total men (C2020_A  Associate's degree  First major  Grand total)',\n",
       "       'Grand total women (C2020_A  Associate's degree  First major  Grand total)',\n",
       "       'American Indian or Alaska Native total (C2020_A  Associate's degree  First major  Grand total)',\n",
       "       'American Indian or Alaska Native men (C2020_A  Associate's degree  First major  Grand total)',\n",
       "       'American Indian or Alaska Native women (C2020_A  Associate's degree  First major  Grand total)',\n",
       "       'Asian total (C2020_A  Associate's degree  First major  Grand total)',\n",
       "       'Asian men (C2020_A  Associate's degree  First major  Grand total)',\n",
       "       ...\n",
       "       'Students from the full-time adjusted fall 2019 cohort enrolled in fall 2020 (EF2020D)',\n",
       "       'Full-time retention rate  2020 (EF2020D)',\n",
       "       'Part-time fall 2019 cohort (EF2020D)',\n",
       "       'Exclusions from part-time fall 2019 cohort (EF2020D)',\n",
       "       'Inclusions to the part-time fall 2019 cohort (EF2020D)',\n",
       "       'Part-time adjusted fall 2019 cohort (EF2020D)',\n",
       "       'Students from the part-time adjusted fall 2019 cohort enrolled in fall 2020 (EF2020D)',\n",
       "       'Part-time retention rate  2020 (EF2020D)',\n",
       "       'Student-to-faculty ratio (EF2020D)', 'Unnamed: 194'],\n",
       "      dtype='object', length=195)"
      ]
     },
     "execution_count": 17,
     "metadata": {},
     "output_type": "execute_result"
    }
   ],
   "source": [
    "admissions.columns"
   ]
  },
  {
   "cell_type": "code",
   "execution_count": 19,
   "metadata": {},
   "outputs": [
    {
     "data": {
      "text/plain": [
       "Index(['instnm', 'INSTNM (HD2020)', 'IALIAS (HD2020)', 'ADDR (HD2020)',\n",
       "       'CITY (HD2020)', 'STABBR (HD2020)', 'ZIP (HD2020)', 'CHFNM (HD2020)',\n",
       "       'CHFTITLE (HD2020)', 'GENTELE (HD2020)', 'WEBADDR (HD2020)',\n",
       "       'FAIDURL (HD2020)', 'ADMINURL (HD2020)', 'APPLURL (HD2020)',\n",
       "       'NPRICURL (HD2020)', 'VETURL (HD2020)', 'ATHURL (HD2020)',\n",
       "       'DISAURL (HD2020)', 'EIN (HD2020)', 'DUNS (HD2020)', 'OPEFLAG (HD2020)',\n",
       "       'OPEID (HD2020)', 'F1SYSTYP (HD2020)', 'F1SYSCOD (HD2020)',\n",
       "       'F1SYSNAM (HD2020)', 'COUNTYCD (HD2020)', 'COUNTYNM (HD2020)',\n",
       "       'CNGDSTCD (HD2020)', 'CBSA (HD2020)', 'CBSATYPE (HD2020)',\n",
       "       'CSA (HD2020)', 'NECTA (HD2020)', 'LONGITUD (HD2020)',\n",
       "       'LATITUDE (HD2020)', 'OPENPUBL (HD2020)', 'ACT (HD2020)',\n",
       "       'NEWID (HD2020)', 'DEATHYR (HD2020)', 'CLOSEDAT (HD2020)',\n",
       "       'CYACTIVE (HD2020)', 'POSTSEC (HD2020)', 'PSEFLAG (HD2020)',\n",
       "       'CALSYS (IC2020)', 'YRSCOLL (IC2020)', 'NTRLDSTR (FLAGS2020)',\n",
       "       'Unnamed: 45'],\n",
       "      dtype='object')"
      ]
     },
     "execution_count": 19,
     "metadata": {},
     "output_type": "execute_result"
    }
   ],
   "source": [
    "schools.columns"
   ]
  },
  {
   "cell_type": "code",
   "execution_count": 20,
   "metadata": {},
   "outputs": [
    {
     "data": {
      "text/plain": [
       "Index(['instnm', 'Institution (entity) name (HD2020)',\n",
       "       'Certificate of less than 1 year (IC2020)',\n",
       "       'Certificate of less than 12 weeks (IC2020)',\n",
       "       'Certificate of at least 12 weeks  but less than 1 year (IC2020)',\n",
       "       'Certifiicate of at least 1 year  but less than 2 years (IC2020)',\n",
       "       'Associate's degree (IC2020)',\n",
       "       'Certificate of at least 2 years  but less than 4 years (IC2020)',\n",
       "       'Bachelor's degree (IC2020)', 'Postbaccalaureate certificate (IC2020)',\n",
       "       'Master's degree (IC2020)', 'Post-master's certificate (IC2020)',\n",
       "       'Doctor's degree - research/scholarship (IC2020)',\n",
       "       'Doctor's degree - professional practice (IC2020)',\n",
       "       'Doctor's degree - other (IC2020)', 'Other degree (IC2020)',\n",
       "       'Unnamed: 16'],\n",
       "      dtype='object')"
      ]
     },
     "execution_count": 20,
     "metadata": {},
     "output_type": "execute_result"
    }
   ],
   "source": [
    "awards.columns"
   ]
  },
  {
   "cell_type": "code",
   "execution_count": 23,
   "metadata": {},
   "outputs": [
    {
     "data": {
      "text/plain": [
       "(348, 83)"
      ]
     },
     "execution_count": 23,
     "metadata": {},
     "output_type": "execute_result"
    }
   ],
   "source": [
    "dfNoNull.shape"
   ]
  },
  {
   "cell_type": "code",
   "execution_count": 24,
   "metadata": {},
   "outputs": [],
   "source": [
    "fullcol = []\n",
    "\n",
    "for i in df.columns:\n",
    "    if df[i].isna().sum() <= df[i].count()*.05:\n",
    "        fullcol.append(i)"
   ]
  },
  {
   "cell_type": "code",
   "execution_count": 25,
   "metadata": {},
   "outputs": [],
   "source": [
    "nacol = {}\n",
    "\n",
    "for i in df.columns:\n",
    "    if df[i].isna().sum() > df[i].count()*.05:\n",
    "        nacol[i] = round((df[i].isna().count()/df[i].count())*10,2)"
   ]
  },
  {
   "cell_type": "code",
   "execution_count": 26,
   "metadata": {},
   "outputs": [
    {
     "name": "stdout",
     "output_type": "stream",
     "text": [
      "46 37\n"
     ]
    }
   ],
   "source": [
    "print(len(fullcol),\\\n",
    "len(nacol))"
   ]
  },
  {
   "cell_type": "code",
   "execution_count": 27,
   "metadata": {},
   "outputs": [
    {
     "data": {
      "text/plain": [
       "Index(['instnm', 'State abbreviation (HD2020)',\n",
       "       'Level of institution (HD2020)', 'Control of institution (HD2020)',\n",
       "       'Historically Black College or University (HD2020)',\n",
       "       'Tribal college (HD2020)',\n",
       "       'Degree of urbanization (Urban-centric locale) (HD2020)',\n",
       "       'Institution size category (HD2020)',\n",
       "       'Percent of total enrollment that are American Indian or Alaska Native (DRVEF2020)',\n",
       "       'Percent of total enrollment that are Asian/Native Hawaiian/Pacific Islander (DRVEF2020)',\n",
       "       'Percent of total enrollment that are Asian (DRVEF2020)',\n",
       "       'Percent of total enrollment that are Native Hawaiian or Other Pacific Islander (DRVEF2020)',\n",
       "       'Percent of total enrollment that are Black or African American (DRVEF2020)',\n",
       "       'Percent of total enrollment that are Hispanic/Latino (DRVEF2020)',\n",
       "       'Percent of total enrollment that are White (DRVEF2020)',\n",
       "       'Percent of total enrollment that are Race/ethnicity unknown (DRVEF2020)',\n",
       "       'Percent of total enrollment that are Nonresident Alien (DRVEF2020)',\n",
       "       'Percent of total enrollment that are two or more races (DRVEF2020)',\n",
       "       'Percent of students enrolled exclusively in distance education courses (DRVEF2020)',\n",
       "       'Percent of students enrolled in some but not all distance education courses (DRVEF2020)',\n",
       "       'Percent of students not enrolled in any distance education courses (DRVEF2020)',\n",
       "       'Number of students receiving a Doctor's degree (DRVC2020)',\n",
       "       'Number of students receiving a Master's degree (DRVC2020)',\n",
       "       'Number of students receiving a Bachelor's degree (DRVC2020)',\n",
       "       'Number of students receiving an Associate's degree (DRVC2020)',\n",
       "       'Instructional FTE (DRVHR2020)', 'Research FTE (DRVHR2020)',\n",
       "       'Public Service FTE (DRVHR2020)',\n",
       "       'Instructional  research and public service FTE (DRVHR2020)',\n",
       "       'Librarians  Curators  and Archivists FTE (DRVHR2020)',\n",
       "       'Student and Academic Affairs and Other Education Services FTE (DRVHR2020)',\n",
       "       'Management FTE (DRVHR2020)',\n",
       "       'Business and Financial Operations FTE (DRVHR2020)',\n",
       "       'Computer  Engineering  and Science FTE (DRVHR2020)',\n",
       "       'Community Service  Legal  Arts  and Media FTE (DRVHR2020)',\n",
       "       'Healthcare FTE (DRVHR2020)',\n",
       "       'Service  sales  office/admin support  natural resources  construction  maintenance  production  transportation & materials moving FTE (DRVHR2020)',\n",
       "       'Service FTE (DRVHR2020)', 'Sales and Related FTE (DRVHR2020)',\n",
       "       'Office and Administrative Support FTE (DRVHR2020)',\n",
       "       'Natural Resources  Construction  and Maintenance FTE (DRVHR2020)',\n",
       "       'Production  Transportation  and Material Moving FTE (DRVHR2020)',\n",
       "       'Physical books as a percent of the total library collection (DRVAL2020)',\n",
       "       'Physical media as a percent of the total library collection (DRVAL2020)',\n",
       "       'Digital/Electronic books as a percent of the total library collection (DRVAL2020)',\n",
       "       'Digital/Electronic media as a percent of the total library collection (DRVAL2020)'],\n",
       "      dtype='object')"
      ]
     },
     "execution_count": 27,
     "metadata": {},
     "output_type": "execute_result"
    }
   ],
   "source": [
    "filleddf = df[fullcol]"
   ]
  },
  {
   "cell_type": "code",
   "execution_count": 28,
   "metadata": {},
   "outputs": [
    {
     "name": "stdout",
     "output_type": "stream",
     "text": [
      "Professors (S2020_SIS  All full-time instructional staff) 11.79 ,\n",
      "Associate professors (S2020_SIS  All full-time instructional staff) 11.79 ,\n",
      "Assistant professors (S2020_SIS  All full-time instructional staff) 11.79 ,\n",
      "Intructors (S2020_SIS  All full-time instructional staff) 11.79 ,\n",
      "Lecturers (S2020_SIS  All full-time instructional staff) 11.79 ,\n",
      "Percent admitted - total (DRVADM2020) 16.0 ,\n",
      "Percent admitted - men (DRVADM2020) 16.4 ,\n",
      "Percent admitted - women (DRVADM2020) 16.77 ,\n",
      "Admissions yield - total (DRVADM2020) 16.02 ,\n",
      "Admissions yield - men (DRVADM2020) 16.49 ,\n",
      "Admissions yield - women (DRVADM2020) 16.86 ,\n",
      "Percent of undergraduate enrollment 18-24 (DRVEF2020) 19.21 ,\n",
      "Percent of undergraduate enrollment  25-64 (DRVEF2020) 19.21 ,\n",
      "Percent of first-time undergraduates - in-state (DRVEF2020) 12.16 ,\n",
      "Percent of first-time undergraduates - out-of-state (DRVEF2020) 12.16 ,\n",
      "Percent of first-time undergraduates - foreign countries (DRVEF2020) 12.16 ,\n",
      "Full-time retention rate  2020 (EF2020D) 13.58 ,\n",
      "Part-time retention rate  2020 (EF2020D) 22.09 ,\n",
      "Graduation rate  men (DRVGR2020) 12.76 ,\n",
      "Graduation rate  women (DRVGR2020) 13.02 ,\n",
      "Graduation rate - Bachelor degree within 4 years  total (DRVGR2020) 14.01 ,\n",
      "Graduation rate - Bachelor degree within 5 years  total (DRVGR2020) 14.01 ,\n",
      "Graduation rate - Bachelor degree within 6 years  total (DRVGR2020) 14.01 ,\n",
      "Transfer-out rate  total cohort (DRVGR2020) 20.36 ,\n",
      "Graduation rate  total cohort (DRVGR2020) 12.36 ,\n",
      "Percent of first-time degree/certificate-seeking students submitting SAT scores (ADM2020) 24.0 ,\n",
      "Percent of first-time degree/certificate-seeking students submitting ACT scores (ADM2020) 24.02 ,\n",
      "SAT Evidence-Based Reading and Writing 25th percentile score (ADM2020) 25.5 ,\n",
      "SAT Evidence-Based Reading and Writing 75th percentile score (ADM2020) 25.5 ,\n",
      "SAT Math 25th percentile score (ADM2020) 25.5 ,\n",
      "SAT Math 75th percentile score (ADM2020) 25.5 ,\n",
      "ACT Composite 25th percentile score (ADM2020) 24.73 ,\n",
      "ACT Composite 75th percentile score (ADM2020) 24.73 ,\n",
      "ACT English 25th percentile score (ADM2020) 26.25 ,\n",
      "ACT English 75th percentile score (ADM2020) 26.25 ,\n",
      "ACT Math 25th percentile score (ADM2020) 26.22 ,\n",
      "ACT Math 75th percentile score (ADM2020) 26.22 ,\n"
     ]
    }
   ],
   "source": [
    "for item in nacol:\n",
    "    print(item,nacol[item],\",\")"
   ]
  },
  {
   "cell_type": "code",
   "execution_count": 29,
   "metadata": {},
   "outputs": [
    {
     "name": "stdout",
     "output_type": "stream",
     "text": [
      "['Professors (S2020_SIS  All full-time instructional staff)', 'Associate professors (S2020_SIS  All full-time instructional staff)', 'Assistant professors (S2020_SIS  All full-time instructional staff)', 'Intructors (S2020_SIS  All full-time instructional staff)', 'Lecturers (S2020_SIS  All full-time instructional staff)', 'Percent admitted - total (DRVADM2020)', 'Percent admitted - men (DRVADM2020)', 'Percent admitted - women (DRVADM2020)', 'Admissions yield - total (DRVADM2020)', 'Admissions yield - men (DRVADM2020)', 'Admissions yield - women (DRVADM2020)', 'Percent of undergraduate enrollment 18-24 (DRVEF2020)', 'Percent of undergraduate enrollment  25-64 (DRVEF2020)', 'Percent of first-time undergraduates - in-state (DRVEF2020)', 'Percent of first-time undergraduates - out-of-state (DRVEF2020)', 'Percent of first-time undergraduates - foreign countries (DRVEF2020)', 'Full-time retention rate  2020 (EF2020D)', 'Part-time retention rate  2020 (EF2020D)', 'Graduation rate  men (DRVGR2020)', 'Graduation rate  women (DRVGR2020)', 'Graduation rate - Bachelor degree within 4 years  total (DRVGR2020)', 'Graduation rate - Bachelor degree within 5 years  total (DRVGR2020)', 'Graduation rate - Bachelor degree within 6 years  total (DRVGR2020)', 'Transfer-out rate  total cohort (DRVGR2020)', 'Graduation rate  total cohort (DRVGR2020)', 'Percent of first-time degree/certificate-seeking students submitting SAT scores (ADM2020)', 'Percent of first-time degree/certificate-seeking students submitting ACT scores (ADM2020)', 'SAT Evidence-Based Reading and Writing 25th percentile score (ADM2020)', 'SAT Evidence-Based Reading and Writing 75th percentile score (ADM2020)', 'SAT Math 25th percentile score (ADM2020)', 'SAT Math 75th percentile score (ADM2020)', 'ACT Composite 25th percentile score (ADM2020)', 'ACT Composite 75th percentile score (ADM2020)', 'ACT English 25th percentile score (ADM2020)', 'ACT English 75th percentile score (ADM2020)', 'ACT Math 25th percentile score (ADM2020)', 'ACT Math 75th percentile score (ADM2020)']\n"
     ]
    }
   ],
   "source": [
    "nacollist = [key for key in nacol]\n",
    "print(nacollist)"
   ]
  },
  {
   "cell_type": "code",
   "execution_count": 30,
   "metadata": {},
   "outputs": [
    {
     "data": {
      "text/plain": [
       "instnm                                                                                                                                                object\n",
       "State abbreviation (HD2020)                                                                                                                           object\n",
       "Level of institution (HD2020)                                                                                                                          int64\n",
       "Control of institution (HD2020)                                                                                                                        int64\n",
       "Historically Black College or University (HD2020)                                                                                                      int64\n",
       "Tribal college (HD2020)                                                                                                                                int64\n",
       "Degree of urbanization (Urban-centric locale) (HD2020)                                                                                                 int64\n",
       "Institution size category (HD2020)                                                                                                                     int64\n",
       "Percent of total enrollment that are American Indian or Alaska Native (DRVEF2020)                                                                    float64\n",
       "Percent of total enrollment that are Asian/Native Hawaiian/Pacific Islander (DRVEF2020)                                                              float64\n",
       "Percent of total enrollment that are Asian (DRVEF2020)                                                                                               float64\n",
       "Percent of total enrollment that are Native Hawaiian or Other Pacific Islander (DRVEF2020)                                                           float64\n",
       "Percent of total enrollment that are Black or African American (DRVEF2020)                                                                           float64\n",
       "Percent of total enrollment that are Hispanic/Latino (DRVEF2020)                                                                                     float64\n",
       "Percent of total enrollment that are White (DRVEF2020)                                                                                               float64\n",
       "Percent of total enrollment that are Race/ethnicity unknown (DRVEF2020)                                                                              float64\n",
       "Percent of total enrollment that are Nonresident Alien (DRVEF2020)                                                                                   float64\n",
       "Percent of total enrollment that are two or more races (DRVEF2020)                                                                                   float64\n",
       "Percent of students enrolled exclusively in distance education courses (DRVEF2020)                                                                   float64\n",
       "Percent of students enrolled in some but not all distance education courses (DRVEF2020)                                                              float64\n",
       "Percent of students not enrolled in any distance education courses (DRVEF2020)                                                                       float64\n",
       "Number of students receiving a Doctor's degree (DRVC2020)                                                                                            float64\n",
       "Number of students receiving a Master's degree (DRVC2020)                                                                                            float64\n",
       "Number of students receiving a Bachelor's degree (DRVC2020)                                                                                          float64\n",
       "Number of students receiving an Associate's degree (DRVC2020)                                                                                        float64\n",
       "Instructional FTE (DRVHR2020)                                                                                                                        float64\n",
       "Research FTE (DRVHR2020)                                                                                                                             float64\n",
       "Public Service FTE (DRVHR2020)                                                                                                                       float64\n",
       "Instructional  research and public service FTE (DRVHR2020)                                                                                           float64\n",
       "Librarians  Curators  and Archivists FTE (DRVHR2020)                                                                                                 float64\n",
       "Student and Academic Affairs and Other Education Services FTE (DRVHR2020)                                                                            float64\n",
       "Management FTE (DRVHR2020)                                                                                                                           float64\n",
       "Business and Financial Operations FTE (DRVHR2020)                                                                                                    float64\n",
       "Computer  Engineering  and Science FTE (DRVHR2020)                                                                                                   float64\n",
       "Community Service  Legal  Arts  and Media FTE (DRVHR2020)                                                                                            float64\n",
       "Healthcare FTE (DRVHR2020)                                                                                                                           float64\n",
       "Service  sales  office/admin support  natural resources  construction  maintenance  production  transportation & materials moving FTE (DRVHR2020)    float64\n",
       "Service FTE (DRVHR2020)                                                                                                                              float64\n",
       "Sales and Related FTE (DRVHR2020)                                                                                                                    float64\n",
       "Office and Administrative Support FTE (DRVHR2020)                                                                                                    float64\n",
       "Natural Resources  Construction  and Maintenance FTE (DRVHR2020)                                                                                     float64\n",
       "Production  Transportation  and Material Moving FTE (DRVHR2020)                                                                                      float64\n",
       "Physical books as a percent of the total library collection (DRVAL2020)                                                                              float64\n",
       "Physical media as a percent of the total library collection (DRVAL2020)                                                                              float64\n",
       "Digital/Electronic books as a percent of the total library collection (DRVAL2020)                                                                    float64\n",
       "Digital/Electronic media as a percent of the total library collection (DRVAL2020)                                                                    float64\n",
       "dtype: object"
      ]
     },
     "execution_count": 30,
     "metadata": {},
     "output_type": "execute_result"
    }
   ],
   "source": [
    "int_cols = list(filleddf.select_dtypes('int64').columns)\n",
    "\n",
    "#get the list of all float columns\n",
    "float_cols = list(filleddf.select_dtypes('float64').columns)\n",
    "\n",
    "#get the list of all object columns\n",
    "object_cols = list(filleddf.select_dtypes('object').columns)"
   ]
  }
 ],
 "metadata": {
  "interpreter": {
   "hash": "442de4c2fed47b58980e6ed81aab12b88fe86ca79f6c7c985e89dc8785254e87"
  },
  "kernelspec": {
   "display_name": "Python 3.9.7 64-bit ('base': conda)",
   "language": "python",
   "name": "python3"
  },
  "language_info": {
   "codemirror_mode": {
    "name": "ipython",
    "version": 3
   },
   "file_extension": ".py",
   "mimetype": "text/x-python",
   "name": "python",
   "nbconvert_exporter": "python",
   "pygments_lexer": "ipython3",
   "version": "3.9.7"
  },
  "orig_nbformat": 4
 },
 "nbformat": 4,
 "nbformat_minor": 2
}
